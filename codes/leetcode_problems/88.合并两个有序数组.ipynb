{
 "cells": [
  {
   "cell_type": "code",
   "execution_count": 12,
   "metadata": {
    "collapsed": true
   },
   "outputs": [
    {
     "data": {
      "text/plain": "[1, 5, 2, 3, 5, 6]"
     },
     "execution_count": 12,
     "metadata": {},
     "output_type": "execute_result"
    }
   ],
   "source": [
    "class Solution:\n",
    "    def merge(self, nums1, m, nums2,n):\n",
    "        \"\"\"\n",
    "        Do not return anything, modify nums1 in-place instead.\n",
    "        \"\"\"\n",
    "        \"\"\"\n",
    "        双指针nums1.length = m+n\n",
    "        \"\"\"\n",
    "        index1 = m-1\n",
    "        index2 = n-1\n",
    "        index = m+n-1\n",
    "        while index1>0 or index2>=0:\n",
    "            if index1 == -1:\n",
    "                nums1[index] = nums2[index2]\n",
    "                index2 -=1\n",
    "            elif index2 == -1:\n",
    "                nums1[index] =nums2[index1]\n",
    "                index1 -= 1\n",
    "            elif nums1[index1] <= nums2[index2]:\n",
    "                nums1[index] = nums2[index2]\n",
    "                index2 -= 1\n",
    "            else:\n",
    "                nums1[index] = nums1[index1]\n",
    "                index1 -=1\n",
    "            index -= 1\n",
    "        return nums1\n",
    "\n",
    "s = Solution()\n",
    "nums1 = [1,2,3,0,0,0]\n",
    "m = 3\n",
    "nums2 = [2,5,6]\n",
    "n = 3\n",
    "s.merge(nums1,m,nums2,n)"
   ]
  },
  {
   "cell_type": "code",
   "execution_count": null,
   "outputs": [],
   "source": [],
   "metadata": {
    "collapsed": false,
    "pycharm": {
     "name": "#%%\n"
    }
   }
  }
 ],
 "metadata": {
  "kernelspec": {
   "display_name": "Python 3",
   "language": "python",
   "name": "python3"
  },
  "language_info": {
   "codemirror_mode": {
    "name": "ipython",
    "version": 2
   },
   "file_extension": ".py",
   "mimetype": "text/x-python",
   "name": "python",
   "nbconvert_exporter": "python",
   "pygments_lexer": "ipython2",
   "version": "2.7.6"
  }
 },
 "nbformat": 4,
 "nbformat_minor": 0
}