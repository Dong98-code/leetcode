{
 "cells": [
  {
   "cell_type": "code",
   "execution_count": 13,
   "metadata": {
    "collapsed": true
   },
   "outputs": [
    {
     "name": "stdout",
     "output_type": "stream",
     "text": [
      "2\n"
     ]
    }
   ],
   "source": [
    "class Binary_tree:\n",
    "    def __init__(self, val=0):\n",
    "        self.val = val\n",
    "        self.left = None\n",
    "        self.right = None\n",
    "\n",
    "    def insert_left(self, new_node):\n",
    "        if self.left is None:\n",
    "            self.left = Binary_tree(new_node)\n",
    "        else:\n",
    "            temp = Binary_tree(new_node)\n",
    "            temp.left = self.left\n",
    "            self.left = temp\n",
    "\n",
    "    def insert_right(self, new_node):\n",
    "        if self.right is None:\n",
    "            self.right = Binary_tree(new_node)\n",
    "        else:\n",
    "            temp = Binary_tree(new_node)\n",
    "            temp.right = self.right\n",
    "            self.right = temp\n",
    "\n",
    "\n",
    "\n",
    "\n",
    "tree = Binary_tree(3)\n",
    "tree.insert_left(2)\n",
    "\n",
    "\n",
    "print(tree.left.val)"
   ]
  },
  {
   "cell_type": "code",
   "execution_count": null,
   "outputs": [],
   "source": [],
   "metadata": {
    "collapsed": false,
    "pycharm": {
     "name": "#%%\n"
    }
   }
  }
 ],
 "metadata": {
  "kernelspec": {
   "display_name": "Python 3",
   "language": "python",
   "name": "python3"
  },
  "language_info": {
   "codemirror_mode": {
    "name": "ipython",
    "version": 2
   },
   "file_extension": ".py",
   "mimetype": "text/x-python",
   "name": "python",
   "nbconvert_exporter": "python",
   "pygments_lexer": "ipython2",
   "version": "2.7.6"
  }
 },
 "nbformat": 4,
 "nbformat_minor": 0
}