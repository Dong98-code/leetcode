{
 "cells": [
  {
   "cell_type": "code",
   "execution_count": 1,
   "metadata": {
    "collapsed": true
   },
   "outputs": [],
   "source": [
    "import pandas as pd\n",
    "import numpy as np\n",
    "import matplotlib as plt\n",
    "import seaborn as sb\n"
   ]
  },
  {
   "cell_type": "code",
   "execution_count": 2,
   "outputs": [
    {
     "data": {
      "text/plain": "   orderid  bikeid  userid       start_time  start_location_x  \\\n0    78387  158357   10080   2016/8/20 6:57           121.348   \n1   891333   92776    6605  2016/8/29 19:09           121.508   \n2  1106623  152045    8876  2016/8/13 16:17           121.383   \n3  1389484  196259   10648  2016/8/23 21:34           121.484   \n4   188537   78208   11735   2016/8/16 7:32           121.407   \n\n   start_location_y         end_time  end_location_x  end_location_y  \\\n0            31.389   2016/8/20 7:04         121.357          31.388   \n1            31.279  2016/8/29 19:31         121.489          31.271   \n2            31.254  2016/8/13 16:36         121.405          31.248   \n3            31.320  2016/8/23 21:43         121.471          31.325   \n4            31.292   2016/8/16 7:41         121.418          31.288   \n\n                                               track  \n0  121.347,31.392#121.348,31.389#121.349,31.390#1...  \n1  121.489,31.270#121.489,31.271#121.490,31.270#1...  \n2  121.381,31.251#121.382,31.251#121.382,31.252#1...  \n3  121.471,31.325#121.472,31.325#121.473,31.324#1...  \n4  121.407,31.291#121.407,31.292#121.408,31.291#1...  ",
      "text/html": "<div>\n<style scoped>\n    .dataframe tbody tr th:only-of-type {\n        vertical-align: middle;\n    }\n\n    .dataframe tbody tr th {\n        vertical-align: top;\n    }\n\n    .dataframe thead th {\n        text-align: right;\n    }\n</style>\n<table border=\"1\" class=\"dataframe\">\n  <thead>\n    <tr style=\"text-align: right;\">\n      <th></th>\n      <th>orderid</th>\n      <th>bikeid</th>\n      <th>userid</th>\n      <th>start_time</th>\n      <th>start_location_x</th>\n      <th>start_location_y</th>\n      <th>end_time</th>\n      <th>end_location_x</th>\n      <th>end_location_y</th>\n      <th>track</th>\n    </tr>\n  </thead>\n  <tbody>\n    <tr>\n      <th>0</th>\n      <td>78387</td>\n      <td>158357</td>\n      <td>10080</td>\n      <td>2016/8/20 6:57</td>\n      <td>121.348</td>\n      <td>31.389</td>\n      <td>2016/8/20 7:04</td>\n      <td>121.357</td>\n      <td>31.388</td>\n      <td>121.347,31.392#121.348,31.389#121.349,31.390#1...</td>\n    </tr>\n    <tr>\n      <th>1</th>\n      <td>891333</td>\n      <td>92776</td>\n      <td>6605</td>\n      <td>2016/8/29 19:09</td>\n      <td>121.508</td>\n      <td>31.279</td>\n      <td>2016/8/29 19:31</td>\n      <td>121.489</td>\n      <td>31.271</td>\n      <td>121.489,31.270#121.489,31.271#121.490,31.270#1...</td>\n    </tr>\n    <tr>\n      <th>2</th>\n      <td>1106623</td>\n      <td>152045</td>\n      <td>8876</td>\n      <td>2016/8/13 16:17</td>\n      <td>121.383</td>\n      <td>31.254</td>\n      <td>2016/8/13 16:36</td>\n      <td>121.405</td>\n      <td>31.248</td>\n      <td>121.381,31.251#121.382,31.251#121.382,31.252#1...</td>\n    </tr>\n    <tr>\n      <th>3</th>\n      <td>1389484</td>\n      <td>196259</td>\n      <td>10648</td>\n      <td>2016/8/23 21:34</td>\n      <td>121.484</td>\n      <td>31.320</td>\n      <td>2016/8/23 21:43</td>\n      <td>121.471</td>\n      <td>31.325</td>\n      <td>121.471,31.325#121.472,31.325#121.473,31.324#1...</td>\n    </tr>\n    <tr>\n      <th>4</th>\n      <td>188537</td>\n      <td>78208</td>\n      <td>11735</td>\n      <td>2016/8/16 7:32</td>\n      <td>121.407</td>\n      <td>31.292</td>\n      <td>2016/8/16 7:41</td>\n      <td>121.418</td>\n      <td>31.288</td>\n      <td>121.407,31.291#121.407,31.292#121.408,31.291#1...</td>\n    </tr>\n  </tbody>\n</table>\n</div>"
     },
     "execution_count": 2,
     "metadata": {},
     "output_type": "execute_result"
    }
   ],
   "source": [
    "raw_data = pd.read_csv('D:\\日常学习\\毕业设计\\数据\\摩拜_上海_2016.8\\mobike_shanghai_sample_updated.csv')\n",
    "raw_data.head()\n"
   ],
   "metadata": {
    "collapsed": false,
    "pycharm": {
     "name": "#%%\n"
    }
   }
  },
  {
   "cell_type": "code",
   "execution_count": 3,
   "outputs": [
    {
     "name": "stdout",
     "output_type": "stream",
     "text": [
      "<class 'pandas.core.frame.DataFrame'>\n",
      "RangeIndex: 102361 entries, 0 to 102360\n",
      "Data columns (total 10 columns):\n",
      " #   Column            Non-Null Count   Dtype  \n",
      "---  ------            --------------   -----  \n",
      " 0   orderid           102361 non-null  int64  \n",
      " 1   bikeid            102361 non-null  int64  \n",
      " 2   userid            102361 non-null  int64  \n",
      " 3   start_time        102361 non-null  object \n",
      " 4   start_location_x  102361 non-null  float64\n",
      " 5   start_location_y  102361 non-null  float64\n",
      " 6   end_time          102361 non-null  object \n",
      " 7   end_location_x    102361 non-null  float64\n",
      " 8   end_location_y    102361 non-null  float64\n",
      " 9   track             102361 non-null  object \n",
      "dtypes: float64(4), int64(3), object(3)\n",
      "memory usage: 7.8+ MB\n"
     ]
    }
   ],
   "source": [
    "raw_data.info()\n",
    "\n"
   ],
   "metadata": {
    "collapsed": false,
    "pycharm": {
     "name": "#%%\n"
    }
   }
  },
  {
   "cell_type": "code",
   "execution_count": 4,
   "outputs": [],
   "source": [
    "# 复制数据\n",
    "m_bike = raw_data.copy()\n",
    "m_bike['start_time'] = pd.to_datetime(m_bike['start_time']) # 时间转换成datetime\n",
    "to_str = ['orderid', 'bikeid', 'userid']\n"
   ],
   "metadata": {
    "collapsed": false,
    "pycharm": {
     "name": "#%%\n"
    }
   }
  },
  {
   "cell_type": "code",
   "execution_count": 5,
   "outputs": [],
   "source": [
    "m_bike[to_str] = m_bike[to_str].astype('str')"
   ],
   "metadata": {
    "collapsed": false,
    "pycharm": {
     "name": "#%%\n"
    }
   }
  },
  {
   "cell_type": "code",
   "execution_count": 6,
   "outputs": [],
   "source": [
    "m_bike['end_time'] = pd.to_datetime(m_bike['end_time'])\n"
   ],
   "metadata": {
    "collapsed": false,
    "pycharm": {
     "name": "#%%\n"
    }
   }
  },
  {
   "cell_type": "code",
   "execution_count": 7,
   "outputs": [
    {
     "name": "stdout",
     "output_type": "stream",
     "text": [
      "<class 'pandas.core.frame.DataFrame'>\n",
      "RangeIndex: 102361 entries, 0 to 102360\n",
      "Data columns (total 10 columns):\n",
      " #   Column            Non-Null Count   Dtype         \n",
      "---  ------            --------------   -----         \n",
      " 0   orderid           102361 non-null  object        \n",
      " 1   bikeid            102361 non-null  object        \n",
      " 2   userid            102361 non-null  object        \n",
      " 3   start_time        102361 non-null  datetime64[ns]\n",
      " 4   start_location_x  102361 non-null  float64       \n",
      " 5   start_location_y  102361 non-null  float64       \n",
      " 6   end_time          102361 non-null  datetime64[ns]\n",
      " 7   end_location_x    102361 non-null  float64       \n",
      " 8   end_location_y    102361 non-null  float64       \n",
      " 9   track             102361 non-null  object        \n",
      "dtypes: datetime64[ns](2), float64(4), object(4)\n",
      "memory usage: 7.8+ MB\n"
     ]
    }
   ],
   "source": [
    "m_bike.info()"
   ],
   "metadata": {
    "collapsed": false,
    "pycharm": {
     "name": "#%%\n"
    }
   }
  },
  {
   "cell_type": "code",
   "execution_count": 8,
   "outputs": [],
   "source": [
    "# 新增骑行时间 duration，并将时间拆分成单位为min，命名为ttl_min\n",
    "\n",
    "m_bike['duration'] = m_bike['end_time'] - m_bike['start_time']"
   ],
   "metadata": {
    "collapsed": false,
    "pycharm": {
     "name": "#%%\n"
    }
   }
  },
  {
   "cell_type": "code",
   "execution_count": 9,
   "outputs": [],
   "source": [
    "# m_bike['dur_day'] = m_bike.duration.apply(lambda x: str(x).split(' ')[0])\n",
    "m_bike['dur_day'] = m_bike.duration.apply(lambda x: str(x).split(' ')[0])"
   ],
   "metadata": {
    "collapsed": false,
    "pycharm": {
     "name": "#%%\n"
    }
   }
  },
  {
   "cell_type": "code",
   "execution_count": 10,
   "outputs": [],
   "source": [
    "m_bike['dur_hour'] = m_bike.duration.apply(lambda x:str(x).split(' ')[-1][:2])\n"
   ],
   "metadata": {
    "collapsed": false,
    "pycharm": {
     "name": "#%%\n"
    }
   }
  },
  {
   "cell_type": "code",
   "execution_count": 11,
   "outputs": [],
   "source": [
    "m_bike['dur_min'] = m_bike.duration.apply(lambda x:str(x).split(':')[-2])\n"
   ],
   "metadata": {
    "collapsed": false,
    "pycharm": {
     "name": "#%%\n"
    }
   }
  },
  {
   "cell_type": "code",
   "execution_count": 12,
   "outputs": [],
   "source": [
    "m_bike['dur_sec'] = m_bike.duration.apply(lambda x:str(x).split(':')[-1])\n",
    "to_int = ['dur_day', 'dur_hour', 'dur_min', 'dur_sec']\n",
    "m_bike[to_int] = m_bike[to_int].astype('int')\n",
    "m_bike['ttl_min'] = m_bike.dur_day*24*60+m_bike.dur_hour*60+m_bike.dur_min+m_bike.dur_sec/60"
   ],
   "metadata": {
    "collapsed": false,
    "pycharm": {
     "name": "#%%\n"
    }
   }
  },
  {
   "cell_type": "code",
   "execution_count": 13,
   "outputs": [],
   "source": [
    "# day_id 和day_type ,每条记录为星期几，并根据工作日和周末进行分类\n",
    "m_bike['day_id'] = m_bike.start_time.apply(lambda x: x.isoweekday())\n",
    "m_bike['day_type'] = m_bike.day_id.apply(lambda x: 'weekends' if x == 7 or x == 6 else 'weekdays')"
   ],
   "metadata": {
    "collapsed": false,
    "pycharm": {
     "name": "#%%\n"
    }
   }
  },
  {
   "cell_type": "code",
   "execution_count": 14,
   "outputs": [],
   "source": [
    "# 新增hour_id 和hour_type，获取每条记录的开始时间点，并根据早晚高峰和平和时间段分类\n",
    "\n",
    "m_bike['hour_id'] = m_bike.start_time.apply(lambda x:x.utctimetuple().tm_hour)\n"
   ],
   "metadata": {
    "collapsed": false,
    "pycharm": {
     "name": "#%%\n"
    }
   }
  },
  {
   "cell_type": "code",
   "execution_count": 15,
   "outputs": [],
   "source": [
    "#  按照小时的时间段进行分类\n",
    "\n",
    "m_bike['hour_type'] = m_bike.hour_id.apply(lambda x:'rush_hour' if (x <= 9 and x >=7) or (x >= 17 and x <= 20) else 'non_rush_hour')"
   ],
   "metadata": {
    "collapsed": false,
    "pycharm": {
     "name": "#%%\n"
    }
   }
  },
  {
   "cell_type": "code",
   "execution_count": 16,
   "outputs": [],
   "source": [
    "# 新增地理位置信息相关的列：\n",
    "# distance 和 distocenter 距离上海市中心的距离（km）\n",
    "from math import cos, sin , sqrt, asin, radians\n",
    "\n",
    "\n",
    "def geo_distance(lng1, lat1, lng2, lat2):\n",
    "    \"\"\"\n",
    "    # 根据经纬度计算亮点之间的直线距离\n",
    "    :param lng1: 位置1经度\n",
    "    :param lat1: 维度1\n",
    "    :param lng2: 经度2\n",
    "    :param lat2: 纬度2\n",
    "\n",
    "    :return: 二者之间直线距离\n",
    "    \"\"\"\n",
    "    lng1_r, lat1_r, lng2_r, lat2_r = map(radians, [lng1, lat1, lng1, lat2]) # map函数，转换成弧度\n",
    "    d_lng = lng1_r - lng2_r # 经度差值（弧度）\n",
    "    d_lat = lat1_r - lat2_r # 纬度差值\n",
    "    dis = sin(d_lat/2)**2 + cos(lat1_r)*cos(lat2_r)*sin(d_lng/2)**2\n",
    "    distance = 2 * asin(sqrt(dis))*6738.137*1000\n",
    "    distance = round(distance/1000,3) # 保留三位小数 ，单位km\n",
    "    return distance\n",
    "\n",
    "def get_dis(item):\n",
    "    item['distance'] = geo_distance(item['start_location_x'], item['start_location_y'],\n",
    "                                   item['end_location_x'], item['end_location_y'])    # 计算骑行始末点经纬度的直线距离\n",
    "    # 国际饭店一般被认为是上海地理中心坐标点，计算骑行起始点经纬度和国际饭店经纬度的直线距离\n",
    "    item['dis_to_center'] = geo_distance(item['start_location_x'], item['start_location_y'], 121.471632, 31.233705)\n",
    "    return item"
   ],
   "metadata": {
    "collapsed": false,
    "pycharm": {
     "name": "#%%\n"
    }
   }
  },
  {
   "cell_type": "code",
   "execution_count": 17,
   "outputs": [],
   "source": [
    "m_bike['distance'] = np.nan\n",
    "m_bike['dis_to_center'] = np.nan\n",
    "m_bike = m_bike.apply(get_dis, axis=1)"
   ],
   "metadata": {
    "collapsed": false,
    "pycharm": {
     "name": "#%%\n"
    }
   }
  },
  {
   "cell_type": "code",
   "execution_count": 19,
   "outputs": [],
   "source": [
    "# 按照地点距离市中心的距离 进行划分 ring_state\n",
    "\n",
    "def get_ring_state(item):\n",
    "    if item['dis_to_center'] <= 10:\n",
    "        item['ring_stage'] = 'inside inner ring' # 外环\n",
    "    elif item['dis_to_center'] <= 15:\n",
    "        item['ring_stage'] = 'inside middle ring'    # 中环距国际饭店最远距离约为15km\n",
    "    elif item['dis_to_center'] <= 18:\n",
    "        item['ring_stage'] = 'inside outer ring'    # 外环距国际饭店最远距离约为18km\n",
    "    elif item['dis_to_center'] > 18:\n",
    "        item['ring_stage'] = 'outside outer ring'\n",
    "    return item\n",
    "\n",
    "m_bike['ring_stage'] = np.nan\n",
    "m_bike = m_bike.apply(get_ring_state, axis=1)"
   ],
   "metadata": {
    "collapsed": false,
    "pycharm": {
     "name": "#%%\n"
    }
   }
  },
  {
   "cell_type": "code",
   "execution_count": 20,
   "outputs": [],
   "source": [
    "m_bike = m_bike.drop(labels='ring_state',axis=1)"
   ],
   "metadata": {
    "collapsed": false,
    "pycharm": {
     "name": "#%%\n"
    }
   }
  },
  {
   "cell_type": "code",
   "execution_count": 21,
   "outputs": [],
   "source": [
    "import math\n",
    "m_bike['cost'] = m_bike.ttl_min.apply(lambda x: math.ceil(x/30))    # 参照2016年摩拜收费标准，按每30分钟收取1元进行cost列的粗略计算\n"
   ],
   "metadata": {
    "collapsed": false,
    "pycharm": {
     "name": "#%%\n"
    }
   }
  },
  {
   "cell_type": "code",
   "execution_count": 22,
   "outputs": [],
   "source": [
    "m_bike_sub = m_bike.copy()\n",
    "m_bike_sub.userid = m_bike_sub.userid.astype('int')"
   ],
   "metadata": {
    "collapsed": false,
    "pycharm": {
     "name": "#%%\n"
    }
   }
  },
  {
   "cell_type": "code",
   "execution_count": 23,
   "outputs": [],
   "source": [
    "m_bike_sub = m_bike_sub.sort_values('userid')"
   ],
   "metadata": {
    "collapsed": false,
    "pycharm": {
     "name": "#%%\n"
    }
   }
  },
  {
   "cell_type": "code",
   "execution_count": null,
   "outputs": [],
   "source": [
    "# 计算RFM值\n"
   ],
   "metadata": {
    "collapsed": false,
    "pycharm": {
     "name": "#%%\n"
    }
   }
  }
 ],
 "metadata": {
  "kernelspec": {
   "name": "pycharm-bf67d237",
   "language": "python",
   "display_name": "PyCharm (ASTGCN_r)"
  },
  "language_info": {
   "codemirror_mode": {
    "name": "ipython",
    "version": 2
   },
   "file_extension": ".py",
   "mimetype": "text/x-python",
   "name": "python",
   "nbconvert_exporter": "python",
   "pygments_lexer": "ipython2",
   "version": "2.7.6"
  }
 },
 "nbformat": 4,
 "nbformat_minor": 0
}