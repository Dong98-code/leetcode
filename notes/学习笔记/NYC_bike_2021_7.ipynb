{
 "cells": [
  {
   "cell_type": "code",
   "execution_count": 38,
   "metadata": {
    "collapsed": true
   },
   "outputs": [],
   "source": [
    "import pandas as pd\n",
    "import numpy as np\n",
    "# import matplotlib as plt\n",
    "import seaborn as sb"
   ]
  },
  {
   "cell_type": "code",
   "execution_count": 39,
   "outputs": [
    {
     "name": "stderr",
     "output_type": "stream",
     "text": [
      "D:\\anaconda\\lib\\site-packages\\IPython\\core\\interactiveshell.py:3166: DtypeWarning: Columns (7) have mixed types.Specify dtype option on import or set low_memory=False.\n",
      "  interactivity=interactivity, compiler=compiler, result=result)\n"
     ]
    }
   ],
   "source": [
    "raw_data = pd.read_csv('D:\\日常学习\\毕业设计\\数据\\city_bike_data\\citibike_tripdata_202107\\citibike_tripdata_202107.csv')"
   ],
   "metadata": {
    "collapsed": false,
    "pycharm": {
     "name": "#%%\n"
    }
   }
  },
  {
   "cell_type": "code",
   "execution_count": 40,
   "outputs": [
    {
     "data": {
      "text/plain": "            ride_id rideable_type           started_at             ended_at  \\\n0  247BA541A9674BF3  classic_bike  2021-07-09 16:05:36  2021-07-09 16:18:09   \n1  125C9ACA270A5E2D  classic_bike  2021-07-11 16:23:35  2021-07-11 16:29:07   \n2  2E26264BCC15BA05  classic_bike  2021-07-23 06:22:40  2021-07-23 06:36:13   \n3  A56D23A088563424  classic_bike  2021-07-05 16:08:10  2021-07-05 16:36:00   \n4  1451F4BB884C5335  classic_bike  2021-07-26 12:28:57  2021-07-26 12:30:21   \n\n     start_station_name  start_station_id                    end_station_name  \\\n0       5 Ave & E 93 St           7372.10  Frederick Douglass Blvd & W 117 St   \n1       5 Ave & E 93 St           7372.10                  E 88 St & Park Ave   \n2        34 St & 38 Ave           6453.02          McGuinness Blvd & Eagle St   \n3  Lenox Ave & W 111 St           7602.05                     5 Ave & E 78 St   \n4     6 Ave & Broome St           5610.09                    6 Ave & Canal St   \n\n  end_station_id  start_lat  start_lng    end_lat    end_lng member_casual  \n0        7688.12  40.785785 -73.957481  40.805159 -73.954692        member  \n1        7293.10  40.785785 -73.957481  40.781411 -73.955959        member  \n2        5977.01  40.752443 -73.929737  40.735550 -73.952840        member  \n3        7161.08  40.798786 -73.952300  40.776321 -73.964274        casual  \n4        5500.07  40.724310 -74.004730  40.722438 -74.005664        casual  ",
      "text/html": "<div>\n<style scoped>\n    .dataframe tbody tr th:only-of-type {\n        vertical-align: middle;\n    }\n\n    .dataframe tbody tr th {\n        vertical-align: top;\n    }\n\n    .dataframe thead th {\n        text-align: right;\n    }\n</style>\n<table border=\"1\" class=\"dataframe\">\n  <thead>\n    <tr style=\"text-align: right;\">\n      <th></th>\n      <th>ride_id</th>\n      <th>rideable_type</th>\n      <th>started_at</th>\n      <th>ended_at</th>\n      <th>start_station_name</th>\n      <th>start_station_id</th>\n      <th>end_station_name</th>\n      <th>end_station_id</th>\n      <th>start_lat</th>\n      <th>start_lng</th>\n      <th>end_lat</th>\n      <th>end_lng</th>\n      <th>member_casual</th>\n    </tr>\n  </thead>\n  <tbody>\n    <tr>\n      <th>0</th>\n      <td>247BA541A9674BF3</td>\n      <td>classic_bike</td>\n      <td>2021-07-09 16:05:36</td>\n      <td>2021-07-09 16:18:09</td>\n      <td>5 Ave &amp; E 93 St</td>\n      <td>7372.10</td>\n      <td>Frederick Douglass Blvd &amp; W 117 St</td>\n      <td>7688.12</td>\n      <td>40.785785</td>\n      <td>-73.957481</td>\n      <td>40.805159</td>\n      <td>-73.954692</td>\n      <td>member</td>\n    </tr>\n    <tr>\n      <th>1</th>\n      <td>125C9ACA270A5E2D</td>\n      <td>classic_bike</td>\n      <td>2021-07-11 16:23:35</td>\n      <td>2021-07-11 16:29:07</td>\n      <td>5 Ave &amp; E 93 St</td>\n      <td>7372.10</td>\n      <td>E 88 St &amp; Park Ave</td>\n      <td>7293.10</td>\n      <td>40.785785</td>\n      <td>-73.957481</td>\n      <td>40.781411</td>\n      <td>-73.955959</td>\n      <td>member</td>\n    </tr>\n    <tr>\n      <th>2</th>\n      <td>2E26264BCC15BA05</td>\n      <td>classic_bike</td>\n      <td>2021-07-23 06:22:40</td>\n      <td>2021-07-23 06:36:13</td>\n      <td>34 St &amp; 38 Ave</td>\n      <td>6453.02</td>\n      <td>McGuinness Blvd &amp; Eagle St</td>\n      <td>5977.01</td>\n      <td>40.752443</td>\n      <td>-73.929737</td>\n      <td>40.735550</td>\n      <td>-73.952840</td>\n      <td>member</td>\n    </tr>\n    <tr>\n      <th>3</th>\n      <td>A56D23A088563424</td>\n      <td>classic_bike</td>\n      <td>2021-07-05 16:08:10</td>\n      <td>2021-07-05 16:36:00</td>\n      <td>Lenox Ave &amp; W 111 St</td>\n      <td>7602.05</td>\n      <td>5 Ave &amp; E 78 St</td>\n      <td>7161.08</td>\n      <td>40.798786</td>\n      <td>-73.952300</td>\n      <td>40.776321</td>\n      <td>-73.964274</td>\n      <td>casual</td>\n    </tr>\n    <tr>\n      <th>4</th>\n      <td>1451F4BB884C5335</td>\n      <td>classic_bike</td>\n      <td>2021-07-26 12:28:57</td>\n      <td>2021-07-26 12:30:21</td>\n      <td>6 Ave &amp; Broome St</td>\n      <td>5610.09</td>\n      <td>6 Ave &amp; Canal St</td>\n      <td>5500.07</td>\n      <td>40.724310</td>\n      <td>-74.004730</td>\n      <td>40.722438</td>\n      <td>-74.005664</td>\n      <td>casual</td>\n    </tr>\n  </tbody>\n</table>\n</div>"
     },
     "execution_count": 40,
     "metadata": {},
     "output_type": "execute_result"
    }
   ],
   "source": [
    "raw_data.head()\n"
   ],
   "metadata": {
    "collapsed": false,
    "pycharm": {
     "name": "#%%\n"
    }
   }
  },
  {
   "cell_type": "code",
   "execution_count": 41,
   "outputs": [
    {
     "name": "stdout",
     "output_type": "stream",
     "text": [
      "<class 'pandas.core.frame.DataFrame'>\n",
      "RangeIndex: 3084537 entries, 0 to 3084536\n",
      "Data columns (total 13 columns):\n",
      " #   Column              Dtype  \n",
      "---  ------              -----  \n",
      " 0   ride_id             object \n",
      " 1   rideable_type       object \n",
      " 2   started_at          object \n",
      " 3   ended_at            object \n",
      " 4   start_station_name  object \n",
      " 5   start_station_id    float64\n",
      " 6   end_station_name    object \n",
      " 7   end_station_id      object \n",
      " 8   start_lat           float64\n",
      " 9   start_lng           float64\n",
      " 10  end_lat             float64\n",
      " 11  end_lng             float64\n",
      " 12  member_casual       object \n",
      "dtypes: float64(5), object(8)\n",
      "memory usage: 305.9+ MB\n"
     ]
    }
   ],
   "source": [
    "raw_data.info()\n",
    "\n"
   ],
   "metadata": {
    "collapsed": false,
    "pycharm": {
     "name": "#%%\n"
    }
   }
  },
  {
   "cell_type": "code",
   "execution_count": 42,
   "outputs": [],
   "source": [
    "nyc_bike = raw_data.copy()"
   ],
   "metadata": {
    "collapsed": false,
    "pycharm": {
     "name": "#%%\n"
    }
   }
  },
  {
   "cell_type": "code",
   "execution_count": 43,
   "outputs": [
    {
     "data": {
      "text/plain": "1493"
     },
     "execution_count": 43,
     "metadata": {},
     "output_type": "execute_result"
    }
   ],
   "source": [
    "len(nyc_bike['start_station_name'].unique())"
   ],
   "metadata": {
    "collapsed": false,
    "pycharm": {
     "name": "#%%\n"
    }
   }
  },
  {
   "cell_type": "code",
   "execution_count": 44,
   "outputs": [
    {
     "data": {
      "text/plain": "3084537"
     },
     "execution_count": 44,
     "metadata": {},
     "output_type": "execute_result"
    }
   ],
   "source": [
    "# 车量数目\n",
    "len(nyc_bike['ride_id'].unique())  # 订单数目id"
   ],
   "metadata": {
    "collapsed": false,
    "pycharm": {
     "name": "#%%\n"
    }
   }
  },
  {
   "cell_type": "code",
   "execution_count": 45,
   "outputs": [
    {
     "data": {
      "text/plain": "            ride_id rideable_type          started_at            ended_at  \\\n0  247BA541A9674BF3  classic_bike 2021-07-09 16:05:36 2021-07-09 16:18:09   \n1  125C9ACA270A5E2D  classic_bike 2021-07-11 16:23:35 2021-07-11 16:29:07   \n2  2E26264BCC15BA05  classic_bike 2021-07-23 06:22:40 2021-07-23 06:36:13   \n3  A56D23A088563424  classic_bike 2021-07-05 16:08:10 2021-07-05 16:36:00   \n4  1451F4BB884C5335  classic_bike 2021-07-26 12:28:57 2021-07-26 12:30:21   \n\n     start_station_name  start_station_id                    end_station_name  \\\n0       5 Ave & E 93 St           7372.10  Frederick Douglass Blvd & W 117 St   \n1       5 Ave & E 93 St           7372.10                  E 88 St & Park Ave   \n2        34 St & 38 Ave           6453.02          McGuinness Blvd & Eagle St   \n3  Lenox Ave & W 111 St           7602.05                     5 Ave & E 78 St   \n4     6 Ave & Broome St           5610.09                    6 Ave & Canal St   \n\n  end_station_id  start_lat  start_lng    end_lat    end_lng member_casual  \n0        7688.12  40.785785 -73.957481  40.805159 -73.954692        member  \n1        7293.10  40.785785 -73.957481  40.781411 -73.955959        member  \n2        5977.01  40.752443 -73.929737  40.735550 -73.952840        member  \n3        7161.08  40.798786 -73.952300  40.776321 -73.964274        casual  \n4        5500.07  40.724310 -74.004730  40.722438 -74.005664        casual  ",
      "text/html": "<div>\n<style scoped>\n    .dataframe tbody tr th:only-of-type {\n        vertical-align: middle;\n    }\n\n    .dataframe tbody tr th {\n        vertical-align: top;\n    }\n\n    .dataframe thead th {\n        text-align: right;\n    }\n</style>\n<table border=\"1\" class=\"dataframe\">\n  <thead>\n    <tr style=\"text-align: right;\">\n      <th></th>\n      <th>ride_id</th>\n      <th>rideable_type</th>\n      <th>started_at</th>\n      <th>ended_at</th>\n      <th>start_station_name</th>\n      <th>start_station_id</th>\n      <th>end_station_name</th>\n      <th>end_station_id</th>\n      <th>start_lat</th>\n      <th>start_lng</th>\n      <th>end_lat</th>\n      <th>end_lng</th>\n      <th>member_casual</th>\n    </tr>\n  </thead>\n  <tbody>\n    <tr>\n      <th>0</th>\n      <td>247BA541A9674BF3</td>\n      <td>classic_bike</td>\n      <td>2021-07-09 16:05:36</td>\n      <td>2021-07-09 16:18:09</td>\n      <td>5 Ave &amp; E 93 St</td>\n      <td>7372.10</td>\n      <td>Frederick Douglass Blvd &amp; W 117 St</td>\n      <td>7688.12</td>\n      <td>40.785785</td>\n      <td>-73.957481</td>\n      <td>40.805159</td>\n      <td>-73.954692</td>\n      <td>member</td>\n    </tr>\n    <tr>\n      <th>1</th>\n      <td>125C9ACA270A5E2D</td>\n      <td>classic_bike</td>\n      <td>2021-07-11 16:23:35</td>\n      <td>2021-07-11 16:29:07</td>\n      <td>5 Ave &amp; E 93 St</td>\n      <td>7372.10</td>\n      <td>E 88 St &amp; Park Ave</td>\n      <td>7293.10</td>\n      <td>40.785785</td>\n      <td>-73.957481</td>\n      <td>40.781411</td>\n      <td>-73.955959</td>\n      <td>member</td>\n    </tr>\n    <tr>\n      <th>2</th>\n      <td>2E26264BCC15BA05</td>\n      <td>classic_bike</td>\n      <td>2021-07-23 06:22:40</td>\n      <td>2021-07-23 06:36:13</td>\n      <td>34 St &amp; 38 Ave</td>\n      <td>6453.02</td>\n      <td>McGuinness Blvd &amp; Eagle St</td>\n      <td>5977.01</td>\n      <td>40.752443</td>\n      <td>-73.929737</td>\n      <td>40.735550</td>\n      <td>-73.952840</td>\n      <td>member</td>\n    </tr>\n    <tr>\n      <th>3</th>\n      <td>A56D23A088563424</td>\n      <td>classic_bike</td>\n      <td>2021-07-05 16:08:10</td>\n      <td>2021-07-05 16:36:00</td>\n      <td>Lenox Ave &amp; W 111 St</td>\n      <td>7602.05</td>\n      <td>5 Ave &amp; E 78 St</td>\n      <td>7161.08</td>\n      <td>40.798786</td>\n      <td>-73.952300</td>\n      <td>40.776321</td>\n      <td>-73.964274</td>\n      <td>casual</td>\n    </tr>\n    <tr>\n      <th>4</th>\n      <td>1451F4BB884C5335</td>\n      <td>classic_bike</td>\n      <td>2021-07-26 12:28:57</td>\n      <td>2021-07-26 12:30:21</td>\n      <td>6 Ave &amp; Broome St</td>\n      <td>5610.09</td>\n      <td>6 Ave &amp; Canal St</td>\n      <td>5500.07</td>\n      <td>40.724310</td>\n      <td>-74.004730</td>\n      <td>40.722438</td>\n      <td>-74.005664</td>\n      <td>casual</td>\n    </tr>\n  </tbody>\n</table>\n</div>"
     },
     "execution_count": 45,
     "metadata": {},
     "output_type": "execute_result"
    }
   ],
   "source": [
    "# 计算骑行时长\n",
    "nyc_bike['started_at'] = pd.to_datetime(nyc_bike['started_at'])\n",
    "nyc_bike['ended_at'] = pd.to_datetime(nyc_bike['ended_at'])\n",
    "nyc_bike.head()\n"
   ],
   "metadata": {
    "collapsed": false,
    "pycharm": {
     "name": "#%%\n"
    }
   }
  },
  {
   "cell_type": "code",
   "execution_count": 46,
   "outputs": [],
   "source": [
    "sample1 = nyc_bike.iloc[1:3,:].copy()\n",
    "\n",
    "sample1['duration'] = ((sample1['ended_at']-sample1['started_at'])/pd.Timedelta(1,'S')).fillna(0).astype(int)\n"
   ],
   "metadata": {
    "collapsed": false,
    "pycharm": {
     "name": "#%%\n"
    }
   }
  },
  {
   "cell_type": "code",
   "execution_count": 47,
   "outputs": [],
   "source": [
    "# filna(0)空值用0填充；astype 转换数据类型，时间为s数\n",
    "nyc_bike['duration'] = ((nyc_bike['ended_at']-nyc_bike['started_at'])/pd.Timedelta(1,'S')).fillna(0).astype(int)"
   ],
   "metadata": {
    "collapsed": false,
    "pycharm": {
     "name": "#%%\n"
    }
   }
  },
  {
   "cell_type": "code",
   "execution_count": 48,
   "outputs": [],
   "source": [
    "# sample1['started_at'] = (sample1['started_at']).astype('str')"
   ],
   "metadata": {
    "collapsed": false,
    "pycharm": {
     "name": "#%%\n"
    }
   }
  },
  {
   "cell_type": "code",
   "execution_count": 49,
   "outputs": [],
   "source": [
    "time_split = pd.DataFrame((str(x).split(' ') for x in sample1.started_at), index=sample1.index, columns=['start_date', 'start_time'])"
   ],
   "metadata": {
    "collapsed": false,
    "pycharm": {
     "name": "#%%\n"
    }
   }
  },
  {
   "cell_type": "code",
   "execution_count": 50,
   "outputs": [],
   "source": [
    "sample1 = pd.merge(sample1, time_split, right_index=True, left_index=True)"
   ],
   "metadata": {
    "collapsed": false,
    "pycharm": {
     "name": "#%%\n"
    }
   }
  },
  {
   "cell_type": "code",
   "execution_count": 51,
   "outputs": [],
   "source": [
    "time_split = pd.DataFrame((str(x).split(' ') for x in nyc_bike.started_at), index=nyc_bike.index, columns=['start_date', 'start_time'])\n"
   ],
   "metadata": {
    "collapsed": false,
    "pycharm": {
     "name": "#%%\n"
    }
   }
  },
  {
   "cell_type": "code",
   "execution_count": 52,
   "outputs": [],
   "source": [
    "nyc_bike = pd.merge(nyc_bike, time_split, left_index=True, right_index=True)"
   ],
   "metadata": {
    "collapsed": false,
    "pycharm": {
     "name": "#%%\n"
    }
   }
  },
  {
   "cell_type": "code",
   "execution_count": 53,
   "outputs": [
    {
     "name": "stdout",
     "output_type": "stream",
     "text": [
      "<class 'pandas.core.frame.DataFrame'>\n",
      "RangeIndex: 3084537 entries, 0 to 3084536\n",
      "Data columns (total 16 columns):\n",
      " #   Column              Dtype         \n",
      "---  ------              -----         \n",
      " 0   ride_id             object        \n",
      " 1   rideable_type       object        \n",
      " 2   started_at          datetime64[ns]\n",
      " 3   ended_at            datetime64[ns]\n",
      " 4   start_station_name  object        \n",
      " 5   start_station_id    float64       \n",
      " 6   end_station_name    object        \n",
      " 7   end_station_id      object        \n",
      " 8   start_lat           float64       \n",
      " 9   start_lng           float64       \n",
      " 10  end_lat             float64       \n",
      " 11  end_lng             float64       \n",
      " 12  member_casual       object        \n",
      " 13  duration            int32         \n",
      " 14  start_date          object        \n",
      " 15  start_time          object        \n",
      "dtypes: datetime64[ns](2), float64(5), int32(1), object(8)\n",
      "memory usage: 364.8+ MB\n"
     ]
    }
   ],
   "source": [
    "nyc_bike.info()\n"
   ],
   "metadata": {
    "collapsed": false,
    "pycharm": {
     "name": "#%%\n"
    }
   }
  },
  {
   "cell_type": "code",
   "execution_count": 58,
   "outputs": [
    {
     "ename": "AttributeError",
     "evalue": "Can only use .dt accessor with datetimelike values",
     "output_type": "error",
     "traceback": [
      "\u001B[1;31m---------------------------------------------------------------------------\u001B[0m",
      "\u001B[1;31mAttributeError\u001B[0m                            Traceback (most recent call last)",
      "\u001B[1;32m<ipython-input-58-07f4622ea716>\u001B[0m in \u001B[0;36m<module>\u001B[1;34m\u001B[0m\n\u001B[0;32m      1\u001B[0m \u001B[1;31m# 更改start_time 为 日期格式\u001B[0m\u001B[1;33m\u001B[0m\u001B[1;33m\u001B[0m\u001B[1;33m\u001B[0m\u001B[0m\n\u001B[1;32m----> 2\u001B[1;33m \u001B[0mnyc_bike\u001B[0m\u001B[1;33m[\u001B[0m\u001B[1;34m'start_time'\u001B[0m\u001B[1;33m]\u001B[0m \u001B[1;33m=\u001B[0m \u001B[0mnyc_bike\u001B[0m\u001B[1;33m[\u001B[0m\u001B[1;34m'start_time'\u001B[0m\u001B[1;33m]\u001B[0m\u001B[1;33m.\u001B[0m\u001B[0mdt\u001B[0m\u001B[1;33m.\u001B[0m\u001B[0mtime\u001B[0m\u001B[1;33m\u001B[0m\u001B[1;33m\u001B[0m\u001B[0m\n\u001B[0m",
      "\u001B[1;32mD:\\anaconda\\lib\\site-packages\\pandas\\core\\generic.py\u001B[0m in \u001B[0;36m__getattr__\u001B[1;34m(self, name)\u001B[0m\n\u001B[0;32m   5459\u001B[0m             \u001B[1;32mor\u001B[0m \u001B[0mname\u001B[0m \u001B[1;32min\u001B[0m \u001B[0mself\u001B[0m\u001B[1;33m.\u001B[0m\u001B[0m_accessors\u001B[0m\u001B[1;33m\u001B[0m\u001B[1;33m\u001B[0m\u001B[0m\n\u001B[0;32m   5460\u001B[0m         ):\n\u001B[1;32m-> 5461\u001B[1;33m             \u001B[1;32mreturn\u001B[0m \u001B[0mobject\u001B[0m\u001B[1;33m.\u001B[0m\u001B[0m__getattribute__\u001B[0m\u001B[1;33m(\u001B[0m\u001B[0mself\u001B[0m\u001B[1;33m,\u001B[0m \u001B[0mname\u001B[0m\u001B[1;33m)\u001B[0m\u001B[1;33m\u001B[0m\u001B[1;33m\u001B[0m\u001B[0m\n\u001B[0m\u001B[0;32m   5462\u001B[0m         \u001B[1;32melse\u001B[0m\u001B[1;33m:\u001B[0m\u001B[1;33m\u001B[0m\u001B[1;33m\u001B[0m\u001B[0m\n\u001B[0;32m   5463\u001B[0m             \u001B[1;32mif\u001B[0m \u001B[0mself\u001B[0m\u001B[1;33m.\u001B[0m\u001B[0m_info_axis\u001B[0m\u001B[1;33m.\u001B[0m\u001B[0m_can_hold_identifiers_and_holds_name\u001B[0m\u001B[1;33m(\u001B[0m\u001B[0mname\u001B[0m\u001B[1;33m)\u001B[0m\u001B[1;33m:\u001B[0m\u001B[1;33m\u001B[0m\u001B[1;33m\u001B[0m\u001B[0m\n",
      "\u001B[1;32mD:\\anaconda\\lib\\site-packages\\pandas\\core\\accessor.py\u001B[0m in \u001B[0;36m__get__\u001B[1;34m(self, obj, cls)\u001B[0m\n\u001B[0;32m    178\u001B[0m             \u001B[1;31m# we're accessing the attribute of the class, i.e., Dataset.geo\u001B[0m\u001B[1;33m\u001B[0m\u001B[1;33m\u001B[0m\u001B[1;33m\u001B[0m\u001B[0m\n\u001B[0;32m    179\u001B[0m             \u001B[1;32mreturn\u001B[0m \u001B[0mself\u001B[0m\u001B[1;33m.\u001B[0m\u001B[0m_accessor\u001B[0m\u001B[1;33m\u001B[0m\u001B[1;33m\u001B[0m\u001B[0m\n\u001B[1;32m--> 180\u001B[1;33m         \u001B[0maccessor_obj\u001B[0m \u001B[1;33m=\u001B[0m \u001B[0mself\u001B[0m\u001B[1;33m.\u001B[0m\u001B[0m_accessor\u001B[0m\u001B[1;33m(\u001B[0m\u001B[0mobj\u001B[0m\u001B[1;33m)\u001B[0m\u001B[1;33m\u001B[0m\u001B[1;33m\u001B[0m\u001B[0m\n\u001B[0m\u001B[0;32m    181\u001B[0m         \u001B[1;31m# Replace the property with the accessor object. Inspired by:\u001B[0m\u001B[1;33m\u001B[0m\u001B[1;33m\u001B[0m\u001B[1;33m\u001B[0m\u001B[0m\n\u001B[0;32m    182\u001B[0m         \u001B[1;31m# https://www.pydanny.com/cached-property.html\u001B[0m\u001B[1;33m\u001B[0m\u001B[1;33m\u001B[0m\u001B[1;33m\u001B[0m\u001B[0m\n",
      "\u001B[1;32mD:\\anaconda\\lib\\site-packages\\pandas\\core\\indexes\\accessors.py\u001B[0m in \u001B[0;36m__new__\u001B[1;34m(cls, data)\u001B[0m\n\u001B[0;32m    492\u001B[0m             \u001B[1;32mreturn\u001B[0m \u001B[0mPeriodProperties\u001B[0m\u001B[1;33m(\u001B[0m\u001B[0mdata\u001B[0m\u001B[1;33m,\u001B[0m \u001B[0morig\u001B[0m\u001B[1;33m)\u001B[0m\u001B[1;33m\u001B[0m\u001B[1;33m\u001B[0m\u001B[0m\n\u001B[0;32m    493\u001B[0m \u001B[1;33m\u001B[0m\u001B[0m\n\u001B[1;32m--> 494\u001B[1;33m         \u001B[1;32mraise\u001B[0m \u001B[0mAttributeError\u001B[0m\u001B[1;33m(\u001B[0m\u001B[1;34m\"Can only use .dt accessor with datetimelike values\"\u001B[0m\u001B[1;33m)\u001B[0m\u001B[1;33m\u001B[0m\u001B[1;33m\u001B[0m\u001B[0m\n\u001B[0m",
      "\u001B[1;31mAttributeError\u001B[0m: Can only use .dt accessor with datetimelike values"
     ]
    }
   ],
   "source": [
    "# 更改start_time 为 日期格式\n",
    "nyc_bike['start_time'] = nyc_bike['start_time'].dt.time"
   ],
   "metadata": {
    "collapsed": false,
    "pycharm": {
     "name": "#%%\n"
    }
   }
  },
  {
   "cell_type": "code",
   "execution_count": 59,
   "outputs": [],
   "source": [
    "nyc_bike = nyc_bike.set_index('start_time')\n"
   ],
   "metadata": {
    "collapsed": false,
    "pycharm": {
     "name": "#%%\n"
    }
   }
  },
  {
   "cell_type": "code",
   "execution_count": 68,
   "outputs": [
    {
     "data": {
      "text/plain": "                     ride_id rideable_type          started_at  \\\nstart_time                                                       \n16:05:36    247BA541A9674BF3  classic_bike 2021-07-09 16:05:36   \n16:23:35    125C9ACA270A5E2D  classic_bike 2021-07-11 16:23:35   \n06:22:40    2E26264BCC15BA05  classic_bike 2021-07-23 06:22:40   \n16:08:10    A56D23A088563424  classic_bike 2021-07-05 16:08:10   \n12:28:57    1451F4BB884C5335  classic_bike 2021-07-26 12:28:57   \n...                      ...           ...                 ...   \n14:08:12    70330CE2E6FF7873  classic_bike 2021-07-08 14:08:12   \n12:26:49    5F986BABD3470AC0  classic_bike 2021-07-24 12:26:49   \n17:11:16    88946134552A99EC  classic_bike 2021-07-04 17:11:16   \n09:43:46    5AA6219AC31E068E  classic_bike 2021-07-30 09:43:46   \n17:02:26    EC44170EDF0CDA03  classic_bike 2021-07-05 17:02:26   \n\n                      ended_at                   start_station_name  \\\nstart_time                                                            \n16:05:36   2021-07-09 16:18:09                      5 Ave & E 93 St   \n16:23:35   2021-07-11 16:29:07                      5 Ave & E 93 St   \n06:22:40   2021-07-23 06:36:13                       34 St & 38 Ave   \n16:08:10   2021-07-05 16:36:00                 Lenox Ave & W 111 St   \n12:28:57   2021-07-26 12:30:21                    6 Ave & Broome St   \n...                        ...                                  ...   \n14:08:12   2021-07-08 14:35:15          DeKalb Ave & S Portland Ave   \n12:26:49   2021-07-24 12:47:18                      9 Ave & W 18 St   \n17:11:16   2021-07-04 17:18:23          DeKalb Ave & S Portland Ave   \n09:43:46   2021-07-30 09:57:50                      9 Ave & W 18 St   \n17:02:26   2021-07-05 17:20:23  Adam Clayton Powell Blvd & W 151 St   \n\n            start_station_id                    end_station_name  \\\nstart_time                                                         \n16:05:36             7372.10  Frederick Douglass Blvd & W 117 St   \n16:23:35             7372.10                  E 88 St & Park Ave   \n06:22:40             6453.02          McGuinness Blvd & Eagle St   \n16:08:10             7602.05                     5 Ave & E 78 St   \n12:28:57             5610.09                    6 Ave & Canal St   \n...                      ...                                 ...   \n14:08:12             4546.04                     E 16 St & 5 Ave   \n12:26:49             6190.08                West St & Liberty St   \n17:11:16             4546.04            Willoughby Ave & Hall St   \n09:43:46             6190.08               Allen St & Stanton St   \n17:02:26             8009.05              Columbus Ave & W 95 St   \n\n           end_station_id  start_lat  start_lng    end_lat    end_lng  \\\nstart_time                                                              \n16:05:36          7688.12  40.785785 -73.957481  40.805159 -73.954692   \n16:23:35          7293.10  40.785785 -73.957481  40.781411 -73.955959   \n06:22:40          5977.01  40.752443 -73.929737  40.735550 -73.952840   \n16:08:10          7161.08  40.798786 -73.952300  40.776321 -73.964274   \n12:28:57          5500.07  40.724310 -74.004730  40.722438 -74.005664   \n...                   ...        ...        ...        ...        ...   \n14:08:12          6022.04  40.689810 -73.974931  40.737262 -73.992390   \n12:26:49          5184.08  40.743174 -74.003664  40.711444 -74.014847   \n17:11:16          4611.03  40.689810 -73.974931  40.691960 -73.965369   \n09:43:46          5484.09  40.743174 -74.003664  40.722055 -73.989111   \n17:02:26          7520.07  40.825289 -73.936232  40.791956 -73.968087   \n\n           member_casual  duration  \nstart_time                          \n16:05:36          member       753  \n16:23:35          member       332  \n06:22:40          member       813  \n16:08:10          casual      1670  \n12:28:57          casual        84  \n...                  ...       ...  \n14:08:12          casual      1623  \n12:26:49          casual      1229  \n17:11:16          casual       427  \n09:43:46          member       844  \n17:02:26          member      1077  \n\n[3084537 rows x 14 columns]",
      "text/html": "<div>\n<style scoped>\n    .dataframe tbody tr th:only-of-type {\n        vertical-align: middle;\n    }\n\n    .dataframe tbody tr th {\n        vertical-align: top;\n    }\n\n    .dataframe thead th {\n        text-align: right;\n    }\n</style>\n<table border=\"1\" class=\"dataframe\">\n  <thead>\n    <tr style=\"text-align: right;\">\n      <th></th>\n      <th>ride_id</th>\n      <th>rideable_type</th>\n      <th>started_at</th>\n      <th>ended_at</th>\n      <th>start_station_name</th>\n      <th>start_station_id</th>\n      <th>end_station_name</th>\n      <th>end_station_id</th>\n      <th>start_lat</th>\n      <th>start_lng</th>\n      <th>end_lat</th>\n      <th>end_lng</th>\n      <th>member_casual</th>\n      <th>duration</th>\n    </tr>\n    <tr>\n      <th>start_time</th>\n      <th></th>\n      <th></th>\n      <th></th>\n      <th></th>\n      <th></th>\n      <th></th>\n      <th></th>\n      <th></th>\n      <th></th>\n      <th></th>\n      <th></th>\n      <th></th>\n      <th></th>\n      <th></th>\n    </tr>\n  </thead>\n  <tbody>\n    <tr>\n      <th>16:05:36</th>\n      <td>247BA541A9674BF3</td>\n      <td>classic_bike</td>\n      <td>2021-07-09 16:05:36</td>\n      <td>2021-07-09 16:18:09</td>\n      <td>5 Ave &amp; E 93 St</td>\n      <td>7372.10</td>\n      <td>Frederick Douglass Blvd &amp; W 117 St</td>\n      <td>7688.12</td>\n      <td>40.785785</td>\n      <td>-73.957481</td>\n      <td>40.805159</td>\n      <td>-73.954692</td>\n      <td>member</td>\n      <td>753</td>\n    </tr>\n    <tr>\n      <th>16:23:35</th>\n      <td>125C9ACA270A5E2D</td>\n      <td>classic_bike</td>\n      <td>2021-07-11 16:23:35</td>\n      <td>2021-07-11 16:29:07</td>\n      <td>5 Ave &amp; E 93 St</td>\n      <td>7372.10</td>\n      <td>E 88 St &amp; Park Ave</td>\n      <td>7293.10</td>\n      <td>40.785785</td>\n      <td>-73.957481</td>\n      <td>40.781411</td>\n      <td>-73.955959</td>\n      <td>member</td>\n      <td>332</td>\n    </tr>\n    <tr>\n      <th>06:22:40</th>\n      <td>2E26264BCC15BA05</td>\n      <td>classic_bike</td>\n      <td>2021-07-23 06:22:40</td>\n      <td>2021-07-23 06:36:13</td>\n      <td>34 St &amp; 38 Ave</td>\n      <td>6453.02</td>\n      <td>McGuinness Blvd &amp; Eagle St</td>\n      <td>5977.01</td>\n      <td>40.752443</td>\n      <td>-73.929737</td>\n      <td>40.735550</td>\n      <td>-73.952840</td>\n      <td>member</td>\n      <td>813</td>\n    </tr>\n    <tr>\n      <th>16:08:10</th>\n      <td>A56D23A088563424</td>\n      <td>classic_bike</td>\n      <td>2021-07-05 16:08:10</td>\n      <td>2021-07-05 16:36:00</td>\n      <td>Lenox Ave &amp; W 111 St</td>\n      <td>7602.05</td>\n      <td>5 Ave &amp; E 78 St</td>\n      <td>7161.08</td>\n      <td>40.798786</td>\n      <td>-73.952300</td>\n      <td>40.776321</td>\n      <td>-73.964274</td>\n      <td>casual</td>\n      <td>1670</td>\n    </tr>\n    <tr>\n      <th>12:28:57</th>\n      <td>1451F4BB884C5335</td>\n      <td>classic_bike</td>\n      <td>2021-07-26 12:28:57</td>\n      <td>2021-07-26 12:30:21</td>\n      <td>6 Ave &amp; Broome St</td>\n      <td>5610.09</td>\n      <td>6 Ave &amp; Canal St</td>\n      <td>5500.07</td>\n      <td>40.724310</td>\n      <td>-74.004730</td>\n      <td>40.722438</td>\n      <td>-74.005664</td>\n      <td>casual</td>\n      <td>84</td>\n    </tr>\n    <tr>\n      <th>...</th>\n      <td>...</td>\n      <td>...</td>\n      <td>...</td>\n      <td>...</td>\n      <td>...</td>\n      <td>...</td>\n      <td>...</td>\n      <td>...</td>\n      <td>...</td>\n      <td>...</td>\n      <td>...</td>\n      <td>...</td>\n      <td>...</td>\n      <td>...</td>\n    </tr>\n    <tr>\n      <th>14:08:12</th>\n      <td>70330CE2E6FF7873</td>\n      <td>classic_bike</td>\n      <td>2021-07-08 14:08:12</td>\n      <td>2021-07-08 14:35:15</td>\n      <td>DeKalb Ave &amp; S Portland Ave</td>\n      <td>4546.04</td>\n      <td>E 16 St &amp; 5 Ave</td>\n      <td>6022.04</td>\n      <td>40.689810</td>\n      <td>-73.974931</td>\n      <td>40.737262</td>\n      <td>-73.992390</td>\n      <td>casual</td>\n      <td>1623</td>\n    </tr>\n    <tr>\n      <th>12:26:49</th>\n      <td>5F986BABD3470AC0</td>\n      <td>classic_bike</td>\n      <td>2021-07-24 12:26:49</td>\n      <td>2021-07-24 12:47:18</td>\n      <td>9 Ave &amp; W 18 St</td>\n      <td>6190.08</td>\n      <td>West St &amp; Liberty St</td>\n      <td>5184.08</td>\n      <td>40.743174</td>\n      <td>-74.003664</td>\n      <td>40.711444</td>\n      <td>-74.014847</td>\n      <td>casual</td>\n      <td>1229</td>\n    </tr>\n    <tr>\n      <th>17:11:16</th>\n      <td>88946134552A99EC</td>\n      <td>classic_bike</td>\n      <td>2021-07-04 17:11:16</td>\n      <td>2021-07-04 17:18:23</td>\n      <td>DeKalb Ave &amp; S Portland Ave</td>\n      <td>4546.04</td>\n      <td>Willoughby Ave &amp; Hall St</td>\n      <td>4611.03</td>\n      <td>40.689810</td>\n      <td>-73.974931</td>\n      <td>40.691960</td>\n      <td>-73.965369</td>\n      <td>casual</td>\n      <td>427</td>\n    </tr>\n    <tr>\n      <th>09:43:46</th>\n      <td>5AA6219AC31E068E</td>\n      <td>classic_bike</td>\n      <td>2021-07-30 09:43:46</td>\n      <td>2021-07-30 09:57:50</td>\n      <td>9 Ave &amp; W 18 St</td>\n      <td>6190.08</td>\n      <td>Allen St &amp; Stanton St</td>\n      <td>5484.09</td>\n      <td>40.743174</td>\n      <td>-74.003664</td>\n      <td>40.722055</td>\n      <td>-73.989111</td>\n      <td>member</td>\n      <td>844</td>\n    </tr>\n    <tr>\n      <th>17:02:26</th>\n      <td>EC44170EDF0CDA03</td>\n      <td>classic_bike</td>\n      <td>2021-07-05 17:02:26</td>\n      <td>2021-07-05 17:20:23</td>\n      <td>Adam Clayton Powell Blvd &amp; W 151 St</td>\n      <td>8009.05</td>\n      <td>Columbus Ave &amp; W 95 St</td>\n      <td>7520.07</td>\n      <td>40.825289</td>\n      <td>-73.936232</td>\n      <td>40.791956</td>\n      <td>-73.968087</td>\n      <td>member</td>\n      <td>1077</td>\n    </tr>\n  </tbody>\n</table>\n<p>3084537 rows × 14 columns</p>\n</div>"
     },
     "execution_count": 68,
     "metadata": {},
     "output_type": "execute_result"
    }
   ],
   "source": [
    "nyc_bike.drop(labels='start_date',axis=1)"
   ],
   "metadata": {
    "collapsed": false,
    "pycharm": {
     "name": "#%%\n"
    }
   }
  },
  {
   "cell_type": "code",
   "execution_count": 70,
   "outputs": [
    {
     "data": {
      "text/plain": "                  ride_id rideable_type          started_at  \\\n0        247BA541A9674BF3  classic_bike 2021-07-09 16:05:36   \n1        125C9ACA270A5E2D  classic_bike 2021-07-11 16:23:35   \n2        2E26264BCC15BA05  classic_bike 2021-07-23 06:22:40   \n3        A56D23A088563424  classic_bike 2021-07-05 16:08:10   \n4        1451F4BB884C5335  classic_bike 2021-07-26 12:28:57   \n...                   ...           ...                 ...   \n3084532  70330CE2E6FF7873  classic_bike 2021-07-08 14:08:12   \n3084533  5F986BABD3470AC0  classic_bike 2021-07-24 12:26:49   \n3084534  88946134552A99EC  classic_bike 2021-07-04 17:11:16   \n3084535  5AA6219AC31E068E  classic_bike 2021-07-30 09:43:46   \n3084536  EC44170EDF0CDA03  classic_bike 2021-07-05 17:02:26   \n\n                   ended_at                   start_station_name  \\\n0       2021-07-09 16:18:09                      5 Ave & E 93 St   \n1       2021-07-11 16:29:07                      5 Ave & E 93 St   \n2       2021-07-23 06:36:13                       34 St & 38 Ave   \n3       2021-07-05 16:36:00                 Lenox Ave & W 111 St   \n4       2021-07-26 12:30:21                    6 Ave & Broome St   \n...                     ...                                  ...   \n3084532 2021-07-08 14:35:15          DeKalb Ave & S Portland Ave   \n3084533 2021-07-24 12:47:18                      9 Ave & W 18 St   \n3084534 2021-07-04 17:18:23          DeKalb Ave & S Portland Ave   \n3084535 2021-07-30 09:57:50                      9 Ave & W 18 St   \n3084536 2021-07-05 17:20:23  Adam Clayton Powell Blvd & W 151 St   \n\n         start_station_id                    end_station_name end_station_id  \\\n0                 7372.10  Frederick Douglass Blvd & W 117 St        7688.12   \n1                 7372.10                  E 88 St & Park Ave        7293.10   \n2                 6453.02          McGuinness Blvd & Eagle St        5977.01   \n3                 7602.05                     5 Ave & E 78 St        7161.08   \n4                 5610.09                    6 Ave & Canal St        5500.07   \n...                   ...                                 ...            ...   \n3084532           4546.04                     E 16 St & 5 Ave        6022.04   \n3084533           6190.08                West St & Liberty St        5184.08   \n3084534           4546.04            Willoughby Ave & Hall St        4611.03   \n3084535           6190.08               Allen St & Stanton St        5484.09   \n3084536           8009.05              Columbus Ave & W 95 St        7520.07   \n\n         start_lat  start_lng    end_lat    end_lng member_casual  duration  \\\n0        40.785785 -73.957481  40.805159 -73.954692        member       753   \n1        40.785785 -73.957481  40.781411 -73.955959        member       332   \n2        40.752443 -73.929737  40.735550 -73.952840        member       813   \n3        40.798786 -73.952300  40.776321 -73.964274        casual      1670   \n4        40.724310 -74.004730  40.722438 -74.005664        casual        84   \n...            ...        ...        ...        ...           ...       ...   \n3084532  40.689810 -73.974931  40.737262 -73.992390        casual      1623   \n3084533  40.743174 -74.003664  40.711444 -74.014847        casual      1229   \n3084534  40.689810 -73.974931  40.691960 -73.965369        casual       427   \n3084535  40.743174 -74.003664  40.722055 -73.989111        member       844   \n3084536  40.825289 -73.936232  40.791956 -73.968087        member      1077   \n\n         start_date  \n0        2021-07-09  \n1        2021-07-11  \n2        2021-07-23  \n3        2021-07-05  \n4        2021-07-26  \n...             ...  \n3084532  2021-07-08  \n3084533  2021-07-24  \n3084534  2021-07-04  \n3084535  2021-07-30  \n3084536  2021-07-05  \n\n[3084537 rows x 15 columns]",
      "text/html": "<div>\n<style scoped>\n    .dataframe tbody tr th:only-of-type {\n        vertical-align: middle;\n    }\n\n    .dataframe tbody tr th {\n        vertical-align: top;\n    }\n\n    .dataframe thead th {\n        text-align: right;\n    }\n</style>\n<table border=\"1\" class=\"dataframe\">\n  <thead>\n    <tr style=\"text-align: right;\">\n      <th></th>\n      <th>ride_id</th>\n      <th>rideable_type</th>\n      <th>started_at</th>\n      <th>ended_at</th>\n      <th>start_station_name</th>\n      <th>start_station_id</th>\n      <th>end_station_name</th>\n      <th>end_station_id</th>\n      <th>start_lat</th>\n      <th>start_lng</th>\n      <th>end_lat</th>\n      <th>end_lng</th>\n      <th>member_casual</th>\n      <th>duration</th>\n      <th>start_date</th>\n    </tr>\n  </thead>\n  <tbody>\n    <tr>\n      <th>0</th>\n      <td>247BA541A9674BF3</td>\n      <td>classic_bike</td>\n      <td>2021-07-09 16:05:36</td>\n      <td>2021-07-09 16:18:09</td>\n      <td>5 Ave &amp; E 93 St</td>\n      <td>7372.10</td>\n      <td>Frederick Douglass Blvd &amp; W 117 St</td>\n      <td>7688.12</td>\n      <td>40.785785</td>\n      <td>-73.957481</td>\n      <td>40.805159</td>\n      <td>-73.954692</td>\n      <td>member</td>\n      <td>753</td>\n      <td>2021-07-09</td>\n    </tr>\n    <tr>\n      <th>1</th>\n      <td>125C9ACA270A5E2D</td>\n      <td>classic_bike</td>\n      <td>2021-07-11 16:23:35</td>\n      <td>2021-07-11 16:29:07</td>\n      <td>5 Ave &amp; E 93 St</td>\n      <td>7372.10</td>\n      <td>E 88 St &amp; Park Ave</td>\n      <td>7293.10</td>\n      <td>40.785785</td>\n      <td>-73.957481</td>\n      <td>40.781411</td>\n      <td>-73.955959</td>\n      <td>member</td>\n      <td>332</td>\n      <td>2021-07-11</td>\n    </tr>\n    <tr>\n      <th>2</th>\n      <td>2E26264BCC15BA05</td>\n      <td>classic_bike</td>\n      <td>2021-07-23 06:22:40</td>\n      <td>2021-07-23 06:36:13</td>\n      <td>34 St &amp; 38 Ave</td>\n      <td>6453.02</td>\n      <td>McGuinness Blvd &amp; Eagle St</td>\n      <td>5977.01</td>\n      <td>40.752443</td>\n      <td>-73.929737</td>\n      <td>40.735550</td>\n      <td>-73.952840</td>\n      <td>member</td>\n      <td>813</td>\n      <td>2021-07-23</td>\n    </tr>\n    <tr>\n      <th>3</th>\n      <td>A56D23A088563424</td>\n      <td>classic_bike</td>\n      <td>2021-07-05 16:08:10</td>\n      <td>2021-07-05 16:36:00</td>\n      <td>Lenox Ave &amp; W 111 St</td>\n      <td>7602.05</td>\n      <td>5 Ave &amp; E 78 St</td>\n      <td>7161.08</td>\n      <td>40.798786</td>\n      <td>-73.952300</td>\n      <td>40.776321</td>\n      <td>-73.964274</td>\n      <td>casual</td>\n      <td>1670</td>\n      <td>2021-07-05</td>\n    </tr>\n    <tr>\n      <th>4</th>\n      <td>1451F4BB884C5335</td>\n      <td>classic_bike</td>\n      <td>2021-07-26 12:28:57</td>\n      <td>2021-07-26 12:30:21</td>\n      <td>6 Ave &amp; Broome St</td>\n      <td>5610.09</td>\n      <td>6 Ave &amp; Canal St</td>\n      <td>5500.07</td>\n      <td>40.724310</td>\n      <td>-74.004730</td>\n      <td>40.722438</td>\n      <td>-74.005664</td>\n      <td>casual</td>\n      <td>84</td>\n      <td>2021-07-26</td>\n    </tr>\n    <tr>\n      <th>...</th>\n      <td>...</td>\n      <td>...</td>\n      <td>...</td>\n      <td>...</td>\n      <td>...</td>\n      <td>...</td>\n      <td>...</td>\n      <td>...</td>\n      <td>...</td>\n      <td>...</td>\n      <td>...</td>\n      <td>...</td>\n      <td>...</td>\n      <td>...</td>\n      <td>...</td>\n    </tr>\n    <tr>\n      <th>3084532</th>\n      <td>70330CE2E6FF7873</td>\n      <td>classic_bike</td>\n      <td>2021-07-08 14:08:12</td>\n      <td>2021-07-08 14:35:15</td>\n      <td>DeKalb Ave &amp; S Portland Ave</td>\n      <td>4546.04</td>\n      <td>E 16 St &amp; 5 Ave</td>\n      <td>6022.04</td>\n      <td>40.689810</td>\n      <td>-73.974931</td>\n      <td>40.737262</td>\n      <td>-73.992390</td>\n      <td>casual</td>\n      <td>1623</td>\n      <td>2021-07-08</td>\n    </tr>\n    <tr>\n      <th>3084533</th>\n      <td>5F986BABD3470AC0</td>\n      <td>classic_bike</td>\n      <td>2021-07-24 12:26:49</td>\n      <td>2021-07-24 12:47:18</td>\n      <td>9 Ave &amp; W 18 St</td>\n      <td>6190.08</td>\n      <td>West St &amp; Liberty St</td>\n      <td>5184.08</td>\n      <td>40.743174</td>\n      <td>-74.003664</td>\n      <td>40.711444</td>\n      <td>-74.014847</td>\n      <td>casual</td>\n      <td>1229</td>\n      <td>2021-07-24</td>\n    </tr>\n    <tr>\n      <th>3084534</th>\n      <td>88946134552A99EC</td>\n      <td>classic_bike</td>\n      <td>2021-07-04 17:11:16</td>\n      <td>2021-07-04 17:18:23</td>\n      <td>DeKalb Ave &amp; S Portland Ave</td>\n      <td>4546.04</td>\n      <td>Willoughby Ave &amp; Hall St</td>\n      <td>4611.03</td>\n      <td>40.689810</td>\n      <td>-73.974931</td>\n      <td>40.691960</td>\n      <td>-73.965369</td>\n      <td>casual</td>\n      <td>427</td>\n      <td>2021-07-04</td>\n    </tr>\n    <tr>\n      <th>3084535</th>\n      <td>5AA6219AC31E068E</td>\n      <td>classic_bike</td>\n      <td>2021-07-30 09:43:46</td>\n      <td>2021-07-30 09:57:50</td>\n      <td>9 Ave &amp; W 18 St</td>\n      <td>6190.08</td>\n      <td>Allen St &amp; Stanton St</td>\n      <td>5484.09</td>\n      <td>40.743174</td>\n      <td>-74.003664</td>\n      <td>40.722055</td>\n      <td>-73.989111</td>\n      <td>member</td>\n      <td>844</td>\n      <td>2021-07-30</td>\n    </tr>\n    <tr>\n      <th>3084536</th>\n      <td>EC44170EDF0CDA03</td>\n      <td>classic_bike</td>\n      <td>2021-07-05 17:02:26</td>\n      <td>2021-07-05 17:20:23</td>\n      <td>Adam Clayton Powell Blvd &amp; W 151 St</td>\n      <td>8009.05</td>\n      <td>Columbus Ave &amp; W 95 St</td>\n      <td>7520.07</td>\n      <td>40.825289</td>\n      <td>-73.936232</td>\n      <td>40.791956</td>\n      <td>-73.968087</td>\n      <td>member</td>\n      <td>1077</td>\n      <td>2021-07-05</td>\n    </tr>\n  </tbody>\n</table>\n<p>3084537 rows × 15 columns</p>\n</div>"
     },
     "execution_count": 70,
     "metadata": {},
     "output_type": "execute_result"
    }
   ],
   "source": [
    "nyc_bike.reset_index(drop=True)\n"
   ],
   "metadata": {
    "collapsed": false,
    "pycharm": {
     "name": "#%%\n"
    }
   }
  },
  {
   "cell_type": "code",
   "execution_count": 72,
   "outputs": [],
   "source": [
    "# 增加day_id, hour_id weekdays/weekends\n",
    "\n",
    "nyc_bike['day_id'] = nyc_bike.started_at.apply(lambda x: x.isoweekday())"
   ],
   "metadata": {
    "collapsed": false,
    "pycharm": {
     "name": "#%%\n"
    }
   }
  },
  {
   "cell_type": "code",
   "execution_count": 73,
   "outputs": [],
   "source": [
    "nyc_bike['date_id'] = nyc_bike.start_date.apply(lambda x:str(x).split('-')[-1])"
   ],
   "metadata": {
    "collapsed": false,
    "pycharm": {
     "name": "#%%\n"
    }
   }
  },
  {
   "cell_type": "code",
   "execution_count": 74,
   "outputs": [],
   "source": [
    "nyc_bike['day_type'] = nyc_bike.day_id.apply(lambda x: 'weekends' if x == 6 or x == 7 else 'weekdays')"
   ],
   "metadata": {
    "collapsed": false,
    "pycharm": {
     "name": "#%%\n"
    }
   }
  },
  {
   "cell_type": "code",
   "execution_count": 75,
   "outputs": [],
   "source": [
    "# 增加hour_id\n",
    "nyc_bike['hour_id'] = nyc_bike.started_at.apply(lambda x: x.utctimetuple().tm_hour)"
   ],
   "metadata": {
    "collapsed": false,
    "pycharm": {
     "name": "#%%\n"
    }
   }
  },
  {
   "cell_type": "code",
   "execution_count": 76,
   "outputs": [
    {
     "data": {
      "text/plain": "6    507428\n5    501244\n4    450033\n3    434653\n7    403014\n2    400723\n1    387442\nName: day_id, dtype: int64"
     },
     "execution_count": 76,
     "metadata": {},
     "output_type": "execute_result"
    }
   ],
   "source": [
    "nyc_bike['day_id'].value_counts()"
   ],
   "metadata": {
    "collapsed": false,
    "pycharm": {
     "name": "#%%\n"
    }
   }
  },
  {
   "cell_type": "code",
   "execution_count": 82,
   "outputs": [],
   "source": [
    "ride_day =nyc_bike['day_id'].value_counts()\n",
    "ride_day = ride_day.sort_index()"
   ],
   "metadata": {
    "collapsed": false,
    "pycharm": {
     "name": "#%%\n"
    }
   }
  },
  {
   "cell_type": "code",
   "execution_count": 83,
   "outputs": [
    {
     "data": {
      "text/plain": "<Figure size 432x288 with 1 Axes>",
      "image/png": "[encoded data removed]"
     },
     "metadata": {
      "needs_background": "light"
     },
     "output_type": "display_data"
    }
   ],
   "source": [
    "import matplotlib.pyplot as plt\n",
    "\n",
    "plt.rc('font', family='STXihei', size=15)\n",
    "a=np.array([1,2,3,4,5,6,7])\n",
    "plt.bar([1,2,3,4,5,6,7],ride_day,color='#39A2E1',alpha=0.8,align='center',edgecolor='white')\n",
    "\n",
    "plt.plot(ride_day,'8',ride_day,'g-',color='#052B6C',linewidth=3\n",
    ",markeredgewidth=3,markeredgecolor='#052B6C',alpha=0.8)\n",
    "plt.xlabel('星期几')\n",
    "plt.ylabel('租赁次数')\n",
    "plt.title('Citi Bike用户星期租赁次数')\n",
    "plt.grid( color='#95a5a6',linestyle='--', linewidth=1 ,axis='y',alpha=0.4)\n",
    "plt.xticks(a, ('1','2','3','4','5','6','7') )\n",
    "plt.show()"
   ],
   "metadata": {
    "collapsed": false,
    "pycharm": {
     "name": "#%%\n"
    }
   }
  },
  {
   "cell_type": "code",
   "execution_count": 88,
   "outputs": [
    {
     "data": {
      "text/plain": "<Figure size 432x288 with 1 Axes>",
      "image/png": "[encoded data removed]"
     },
     "metadata": {
      "needs_background": "light"
     },
     "output_type": "display_data"
    }
   ],
   "source": [
    "import matplotlib.pyplot as plt\n",
    "plt.rc('font', family='STXihei', size=15)\n",
    "a=np.array([1,2,3,4,5,6,7])\n",
    "plt.bar([1,2,3,4,5,6,7],ride_day,color='#39A2E1',alpha=0.8,align='center',edgecolor='white')\n",
    "plt.xlabel('星期几')\n",
    "plt.ylabel('租赁骑行次数')\n",
    "plt.title('2021年7月Citi Bike周内骑行次数')\n",
    "plt.legend(['次数'],loc='upper right')\n",
    "# plt.grid(color='#95a5a6',Linestyle='--',linewidth=1,axis='both')\n",
    "plt.xticks(a,('星期一','星期二','星期三','星期四','星期五','星期六','星期日'))\n",
    "plt.show()#绘制柱状图"
   ],
   "metadata": {
    "collapsed": false,
    "pycharm": {
     "name": "#%%\n"
    }
   }
  }
 ],
 "metadata": {
  "kernelspec": {
   "name": "pycharm-bf67d237",
   "language": "python",
   "display_name": "PyCharm (ASTGCN_r)"
  },
  "language_info": {
   "codemirror_mode": {
    "name": "ipython",
    "version": 2
   },
   "file_extension": ".py",
   "mimetype": "text/x-python",
   "name": "python",
   "nbconvert_exporter": "python",
   "pygments_lexer": "ipython2",
   "version": "2.7.6"
  }
 },
 "nbformat": 4,
 "nbformat_minor": 0
}